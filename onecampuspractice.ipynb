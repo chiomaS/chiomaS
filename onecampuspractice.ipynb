{
  "nbformat": 4,
  "nbformat_minor": 0,
  "metadata": {
    "colab": {
      "name": "onecampuspractice",
      "private_outputs": true,
      "provenance": [],
      "authorship_tag": "ABX9TyNODSnzqRHnxiUdOmCTUefm",
      "include_colab_link": true
    },
    "kernelspec": {
      "name": "python3",
      "display_name": "Python 3"
    },
    "language_info": {
      "name": "python"
    }
  },
  "cells": [
    {
      "cell_type": "markdown",
      "metadata": {
        "id": "view-in-github",
        "colab_type": "text"
      },
      "source": [
        "<a href=\"https://colab.research.google.com/github/chiomaS/chiomaS/blob/main/onecampuspractice.ipynb\" target=\"_parent\"><img src=\"https://colab.research.google.com/assets/colab-badge.svg\" alt=\"Open In Colab\"/></a>"
      ]
    },
    {
      "cell_type": "code",
      "source": [
        "proteins = ['meat', 'fish', 'beans', 'stockfish', 'lentils', 'breadfruit', 'peas']\n",
        "g = 3\n",
        "while g < len(proteins):\n",
        "  print(proteins[g])\n",
        "  g = g + 1"
      ],
      "metadata": {
        "id": "eAMHN3fJpYen"
      },
      "execution_count": null,
      "outputs": []
    },
    {
      "cell_type": "code",
      "source": [
        "thislist = [ \"apple\" , \"banana\" , \"cherry\" ] \n",
        "[ print (x) for x in thislist]"
      ],
      "metadata": {
        "id": "UVg7JN6zsInh"
      },
      "execution_count": null,
      "outputs": []
    },
    {
      "cell_type": "code",
      "source": [
        "[print(s) for s in proteins]"
      ],
      "metadata": {
        "id": "jpzOQmJTscL-"
      },
      "execution_count": null,
      "outputs": []
    },
    {
      "cell_type": "code",
      "source": [
        "#List comprehension offers a shorter syntax when you want to create a new list based on the values of an existing list.\n",
        "fruits = [ \"apple\" , \"banana\" , \"cherry\" , \"kiwi\" , \"mango\" ]\n",
        "newlist = [x for x in fruits if \"a\" in x]\n",
        "print (newlist)"
      ],
      "metadata": {
        "id": "OBAlHjrot_3v"
      },
      "execution_count": null,
      "outputs": []
    },
    {
      "cell_type": "code",
      "source": [
        "new = [y for y in proteins if \"b\" in y]\n",
        "print(new)"
      ],
      "metadata": {
        "id": "qIY1rxvdu6Gg"
      },
      "execution_count": null,
      "outputs": []
    },
    {
      "cell_type": "code",
      "source": [
        "#newlist = [expression for item in iterable if condition == True ]The return value is a new list, leaving the old list unchanged.\n",
        "#Condition The condition is like a filter that only accepts the items that valuate to True.\n",
        "newlist = [x for x in fruits if x != \"apple\" ]\n",
        "print(newlist)"
      ],
      "metadata": {
        "id": "x_Q28I8jvaVb"
      },
      "execution_count": null,
      "outputs": []
    },
    {
      "cell_type": "code",
      "source": [
        "newlist1 = [r for r in proteins if r == 'peas']\n",
        "print(newlist1)"
      ],
      "metadata": {
        "id": "qsQq0gJ1w_h1"
      },
      "execution_count": null,
      "outputs": []
    },
    {
      "cell_type": "code",
      "source": [
        "newlist0 = [s for s in proteins if s== 'orange']\n",
        "print(newlist0)"
      ],
      "metadata": {
        "id": "d58-wB9RyAnY"
      },
      "execution_count": null,
      "outputs": []
    },
    {
      "cell_type": "code",
      "source": [
        "newlist0 = [z for z in proteins if z != 'apple']\n",
        "print(newlist0)"
      ],
      "metadata": {
        "id": "nS2Eb6igyaDl"
      },
      "execution_count": null,
      "outputs": []
    },
    {
      "cell_type": "code",
      "source": [
        "newlist2 = [x for x in fruits]\n",
        "print(newlist2)"
      ],
      "metadata": {
        "id": "f6pdmNjPzbxZ"
      },
      "execution_count": null,
      "outputs": []
    },
    {
      "cell_type": "code",
      "source": [
        "newlist3 = [x for x in range ( 10 )]\n",
        "print(newlist3)"
      ],
      "metadata": {
        "id": "KMAze0U30DZx"
      },
      "execution_count": null,
      "outputs": []
    },
    {
      "cell_type": "code",
      "source": [
        "newlist4 = [x for x in range ( 15)]\n",
        "print(newlist4)"
      ],
      "metadata": {
        "id": "RE6klH2j0RPh"
      },
      "execution_count": null,
      "outputs": []
    },
    {
      "cell_type": "code",
      "source": [
        "newlist5 = [x for x in range ( 10 ) if x < 5 ]\n",
        "print(newlist5)"
      ],
      "metadata": {
        "id": "kgAmbYFq0z2O"
      },
      "execution_count": null,
      "outputs": []
    },
    {
      "cell_type": "code",
      "source": [
        "#Expression\n",
        "'''The expression is the current item in the iteration, but it is also the outcome, which you can\n",
        "manipulate before it ends up like a list item in the new list:'''\n",
        "newlist6 = [x.upper() for x in fruits]\n",
        "print(newlist6)\n"
      ],
      "metadata": {
        "id": "mKBLYUFk07K2"
      },
      "execution_count": null,
      "outputs": []
    },
    {
      "cell_type": "code",
      "source": [
        "newlist7 = [y.upper() for y in proteins]\n",
        "print(newlist7)"
      ],
      "metadata": {
        "id": "xwZp7fA03-7d"
      },
      "execution_count": null,
      "outputs": []
    },
    {
      "cell_type": "code",
      "source": [
        "newlist8 = [ 'hello' for x in fruits]\n",
        "print(newlist8)"
      ],
      "metadata": {
        "id": "XDYPhzRN4uUF"
      },
      "execution_count": null,
      "outputs": []
    },
    {
      "cell_type": "code",
      "source": [
        "newlist9 = [x if x != \"banana\" else \"orange\" for x in fruits]\n",
        "print(newlist9)\n",
        "#The expression in the example above"
      ],
      "metadata": {
        "id": "JJBHImqW5CA4"
      },
      "execution_count": null,
      "outputs": []
    },
    {
      "cell_type": "code",
      "source": [
        "#list objects have a sort method\n",
        "proteins.sort()\n",
        "print(proteins)"
      ],
      "metadata": {
        "id": "DuCQQ5NT5-gu"
      },
      "execution_count": null,
      "outputs": []
    },
    {
      "cell_type": "code",
      "source": [
        "thislist.sort()\n",
        "print (thislist)"
      ],
      "metadata": {
        "id": "ZnhuLt7_6PM2"
      },
      "execution_count": null,
      "outputs": []
    },
    {
      "cell_type": "code",
      "source": [
        "#Sort Descending To sort descending, use the keyword argument reverse = True:\n",
        "proteins.sort(reverse=True)\n",
        "print(proteins)"
      ],
      "metadata": {
        "id": "tZA0MyYi65Gb"
      },
      "execution_count": null,
      "outputs": []
    },
    {
      "cell_type": "code",
      "source": [
        "#Sort the list descending:\n",
        "thislist1 = [ 100 , 50 , 65 , 82 , 23 ]\n",
        "thislist1.sort(reverse = True )\n",
        "print (thislist1)"
      ],
      "metadata": {
        "id": "Akm0ptBJ7OeK"
      },
      "execution_count": null,
      "outputs": []
    },
    {
      "cell_type": "code",
      "source": [
        "thislist1.sort()\n",
        "print(thislist1)"
      ],
      "metadata": {
        "id": "NtyC2jm87psX"
      },
      "execution_count": null,
      "outputs": []
    },
    {
      "cell_type": "code",
      "source": [
        "'''Customize Sort Function You can also customize your own function by using the keyword argument key = function .\n",
        "The function will return a number that will be used to sort the list (the lowest number first):\n",
        "Example\n",
        "Sort the list based on how close the number is to 50:'''\n",
        "def myfunc(n):\n",
        "  return abs (n - 50 )\n",
        "thislist = [ 100 , 50 , 65 , 82 , 23 ]\n",
        "thislist.sort(key = myfunc)\n",
        "print (thislist)"
      ],
      "metadata": {
        "id": "Nrjcopwa7yiY"
      },
      "execution_count": null,
      "outputs": []
    }
  ]
}